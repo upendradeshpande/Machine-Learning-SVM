{
 "cells": [
  {
   "cell_type": "code",
   "execution_count": 1,
   "id": "78a415ca",
   "metadata": {},
   "outputs": [],
   "source": [
    "import numpy as np\n",
    "import matplotlib.pyplot as plt\n",
    "import sklearn\n",
    "import pandas as pd\n",
    "import seaborn as sns\n",
    "import pandas as pd # data processing, CSV file I/O (e.g. pd.read_csv)\n",
    "from sklearn.metrics import confusion_matrix\n",
    "from  sklearn.metrics import f1_score\n",
    "import seaborn as sns\n",
    "import matplotlib.pyplot as plt\n",
    "import os\n",
    "import random as rnd"
   ]
  },
  {
   "cell_type": "code",
   "execution_count": 2,
   "id": "d9106284",
   "metadata": {},
   "outputs": [
    {
     "name": "stderr",
     "output_type": "stream",
     "text": [
      "/home/deshpande.u/.conda/envs/upendra/lib/python3.9/site-packages/pandas/io/pytables.py:3007: FutureWarning: In a future version, the Index constructor will not infer numeric dtypes when passed object-dtype sequences (matching Series behavior)\n",
      "  index = factory(\n"
     ]
    }
   ],
   "source": [
    "df=pd.read_hdf('pca64Reduced.h5')"
   ]
  },
  {
   "cell_type": "code",
   "execution_count": 3,
   "id": "22c2f564",
   "metadata": {},
   "outputs": [
    {
     "data": {
      "text/plain": [
       "array(['train', 'test'], dtype=object)"
      ]
     },
     "execution_count": 3,
     "metadata": {},
     "output_type": "execute_result"
    }
   ],
   "source": [
    "df.Data.unique()"
   ]
  },
  {
   "cell_type": "code",
   "execution_count": 4,
   "id": "6697faa7",
   "metadata": {},
   "outputs": [],
   "source": [
    "df_train=df[df.Data=='train']\n",
    "X_train= df_train.drop(['Data','Class'], axis=1).to_numpy()\n",
    "Y_train= df_train['Class'].replace(0,-1).to_numpy()\n",
    "df_val = df[df.Data=='test']\n",
    "X_val= df_val.drop(['Data','Class'], axis=1).to_numpy()\n",
    "Y_val= df_val['Class'].replace(0,-1).to_numpy()"
   ]
  },
  {
   "cell_type": "code",
   "execution_count": 5,
   "id": "bafbb0fa-05fb-4c95-9afb-2e7d0d7cfe1c",
   "metadata": {},
   "outputs": [],
   "source": [
    "class SVM():\n",
    "    def __init__(self, max_iter=100, kernel_type='linear', C=1.0, epsilon=0.001):\n",
    "        self.kernels = {\n",
    "            'linear' : self.kernel_linear,\n",
    "            'quadratic' : self.kernel_quadratic,\n",
    "            'rbf' : self.kernel_rbf\n",
    "        }\n",
    "        self.max_iter = max_iter\n",
    "        self.kernel_type = kernel_type\n",
    "        self.C = C\n",
    "        self.epsilon = epsilon\n",
    "        \n",
    "    def fit(self, X, y,X_val,Y_val):\n",
    "        n, d = X.shape[0], X.shape[1]\n",
    "        alpha = np.zeros((n))\n",
    "        kernel = self.kernels[self.kernel_type]\n",
    "        count = 0\n",
    "        f1_train = []\n",
    "        f1_val = []\n",
    "        max_f1 = -1.0\n",
    "        while True:\n",
    "            count += 1\n",
    "            m=50\n",
    "            alpha_prev = np.copy(alpha)\n",
    "            for j in range(0, n):\n",
    "                i = self.get_rnd_int(0, n-1, j) # Get random int i~=j\n",
    "                x_i, x_j, y_i, y_j = X[i,:], X[j,:], y[i], y[j]\n",
    "                k_ij = kernel(x_i, x_i) + kernel(x_j, x_j) - 2 * kernel(x_i, x_j)\n",
    "                if k_ij == 0:\n",
    "                    continue\n",
    "                alpha_prime_j, alpha_prime_i = alpha[j], alpha[i]\n",
    "                (L, H) = self.compute_L_H(self.C, alpha_prime_j, alpha_prime_i, y_j, y_i)\n",
    "\n",
    "                # Compute model parameters\n",
    "                self.w = self.calc_w(alpha, y, X)\n",
    "                self.b = self.calc_b(X, y, self.w)\n",
    "\n",
    "                # Compute E_i, E_j\n",
    "                E_i = self.E(x_i, y_i, self.w, self.b)\n",
    "                E_j = self.E(x_j, y_j, self.w, self.b)\n",
    "               \n",
    "                # Set new alpha values\n",
    "                alpha[j] = alpha_prime_j + float(y_j * (E_i - E_j))/k_ij\n",
    "                alpha[j] = max(alpha[j], L)\n",
    "                alpha[j] = min(alpha[j], H)\n",
    "\n",
    "                alpha[i] = alpha_prime_i + y_i*y_j * (alpha_prime_j - alpha[j])\n",
    "                \n",
    "            f1_train.append(self.predict_f1(X,y))\n",
    "            f1_val.append(self.predict_f1(X_val,Y_val))\n",
    "            alpha_idx = np.where(alpha > 0)[0]\n",
    "            support_vectors = X[alpha_idx, :]\n",
    "            \n",
    "            # Checking convergence            \n",
    "            diff = np.linalg.norm(alpha - alpha_prev)\n",
    "            if diff < self.epsilon:\n",
    "                break\n",
    "            \n",
    "            if count >= self.max_iter:\n",
    "                print(\"Iteration number exceeded the max of %d iterations\" % (self.max_iter))\n",
    "                \n",
    "                return f1_train, f1_val, support_vectors\n",
    "        self.b = self.calc_b(X, y, self.w)\n",
    "        if self.kernel_type == 'linear':\n",
    "            self.w = self.calc_w(alpha, y, X)\n",
    "        # Get support vectors\n",
    "        alpha_idx = np.where(alpha > 0)[0]\n",
    "        support_vectors = X[alpha_idx, :]\n",
    "        return f1_train, f1_val,support_vectors\n",
    "    def predict_f1(self, X,y):\n",
    "        y_pred = self.predict(X)\n",
    "        return f1_score(y,y_pred)\n",
    "        \n",
    "    def predict(self, X):\n",
    "        return self.h(X, self.w, self.b)\n",
    "    def calc_b(self, X, y, w):\n",
    "        b_tmp = y - np.dot(w.T, X.T)\n",
    "        return np.mean(b_tmp)\n",
    "    def calc_w(self, alpha, y, X):\n",
    "        return np.dot(X.T, np.multiply(alpha,y))\n",
    "    def h(self, X, w, b):\n",
    "        return np.sign(np.dot(w.T, X.T) + b).astype(int)\n",
    "    def E(self, x_k, y_k, w, b):\n",
    "        return self.h(x_k, w, b) - y_k\n",
    "    def compute_L_H(self, C, alpha_prime_j, alpha_prime_i, y_j, y_i):\n",
    "        if(y_i != y_j):\n",
    "            return (max(0, alpha_prime_j - alpha_prime_i), min(C, C - alpha_prime_i + alpha_prime_j))\n",
    "        else:\n",
    "            return (max(0, alpha_prime_i + alpha_prime_j - C), min(C, alpha_prime_i + alpha_prime_j))\n",
    "    def get_rnd_int(self, a,b,z):\n",
    "        i = z\n",
    "        cnt=0\n",
    "        while i == z and cnt<1000:\n",
    "            i = rnd.randint(a,b)\n",
    "            cnt=cnt+1\n",
    "        return i\n",
    "    def kernel_linear(self, x1, x2):\n",
    "        return np.dot(x1, x2.T)\n",
    "    def kernel_quadratic(self, x1, x2):\n",
    "        return (np.dot(x1, x2.T) ** 2)\n",
    "    def kernel_rbf(self,x1, x2):\n",
    "        sigma= np.std(x2)\n",
    "        return np.exp(- (np.linalg.norm(x1 - x2, 2)) ** 2 / (2 * sigma ** 2))\n",
    "    def predict_proba(self, X):\n",
    "        return np.dot(self.w.T, X.T) + self.b\n"
   ]
  },
  {
   "cell_type": "markdown",
   "id": "2264b3c2",
   "metadata": {},
   "source": [
    "### For RBF Kernel"
   ]
  },
  {
   "cell_type": "code",
   "execution_count": 6,
   "id": "98062455-0acd-41a4-9012-6d70cd89e1f5",
   "metadata": {
    "scrolled": true
   },
   "outputs": [
    {
     "name": "stdout",
     "output_type": "stream",
     "text": [
      "best f1_val for RBF kernel: 0.8456189151599444 when C= 10\n",
      "Iteration number exceeded the max of 100 iterations\n",
      "best f1_val for RBF kernel: 0.8435754189944136 when C= 50\n",
      "Iteration number exceeded the max of 100 iterations\n",
      "best f1_val for RBF kernel: 0.8448753462603878 when C= 80\n",
      "Iteration number exceeded the max of 100 iterations\n",
      "best f1_val for RBF kernel: 0.8415147265077139 when C= 90\n",
      "Iteration number exceeded the max of 100 iterations\n",
      "best f1_val for RBF kernel: 0.8460471567267684 when C= 100\n",
      "Iteration number exceeded the max of 100 iterations\n",
      "best f1_val for RBF kernel: 0.8435754189944136 when C= 110\n",
      "Iteration number exceeded the max of 100 iterations\n",
      "best f1_val for RBF kernel: 0.8440111420612815 when C= 150\n"
     ]
    }
   ],
   "source": [
    "max_iter =np.arange(2)\n",
    "c=[]\n",
    "bestf1train=[]\n",
    "bestf1val=[]\n",
    "for i in  [10,50,80,90,100,110,150]:\n",
    "    model = SVM(max_iter=100, kernel_type='rbf', C= i , epsilon=0.00001)\n",
    "    f1_train_rbf, f1_val_rbf, support_vector_rbf=model.fit(X_train, Y_train,X_val,Y_val)\n",
    "    print('best f1_val for RBF kernel:',max(f1_val_rbf),\n",
    "         'when C=', i)\n",
    "    c.append(i)\n",
    "    bestf1train.append(max(f1_train_rbf))\n",
    "    bestf1val.append(max(f1_val_rbf))"
   ]
  },
  {
   "cell_type": "code",
   "execution_count": 7,
   "id": "9e74e98a",
   "metadata": {},
   "outputs": [
    {
     "data": {
      "image/png": "[encoded data removed]",
      "text/plain": [
       "<Figure size 432x288 with 1 Axes>"
      ]
     },
     "metadata": {
      "needs_background": "light"
     },
     "output_type": "display_data"
    }
   ],
   "source": [
    "plt.title(\"Training Curve\")\n",
    "plt.plot(c, bestf1val, label=\"Val\")\n",
    "plt.xlabel(\"C\")\n",
    "plt.ylabel(\"F1_score\")\n",
    "plt.legend()\n",
    "plt.show()"
   ]
  },
  {
   "cell_type": "code",
   "execution_count": null,
   "id": "086e8804-f272-439c-8f36-705e11603a5f",
   "metadata": {},
   "outputs": [],
   "source": [
    "print"
   ]
  },
  {
   "cell_type": "code",
   "execution_count": 13,
   "id": "8d25a9b8-c5ca-4ff9-944f-51534e72e7be",
   "metadata": {},
   "outputs": [
    {
     "name": "stdout",
     "output_type": "stream",
     "text": [
      "Iteration number exceeded the max of 100 iterations\n",
      "best f1_val for RBF kernel: 0.8444444444444444 when C= 100\n",
      "Iteration number exceeded the max of 100 iterations\n",
      "best f1_val for RBF kernel: 0.8435754189944136 when C= 101\n",
      "Iteration number exceeded the max of 100 iterations\n",
      "best f1_val for RBF kernel: 0.8431372549019609 when C= 102\n",
      "Iteration number exceeded the max of 100 iterations\n",
      "best f1_val for RBF kernel: 0.8435754189944136 when C= 103\n",
      "Iteration number exceeded the max of 100 iterations\n",
      "best f1_val for RBF kernel: 0.8447552447552448 when C= 104\n",
      "Iteration number exceeded the max of 100 iterations\n",
      "best f1_val for RBF kernel: 0.8440111420612815 when C= 105\n",
      "Iteration number exceeded the max of 100 iterations\n",
      "best f1_val for RBF kernel: 0.8451882845188285 when C= 106\n",
      "Iteration number exceeded the max of 100 iterations\n",
      "best f1_val for RBF kernel: 0.84593837535014 when C= 107\n",
      "Iteration number exceeded the max of 100 iterations\n",
      "best f1_val for RBF kernel: 0.8428372739916552 when C= 108\n",
      "Iteration number exceeded the max of 100 iterations\n",
      "best f1_val for RBF kernel: 0.8440111420612815 when C= 109\n",
      "Iteration number exceeded the max of 100 iterations\n",
      "best f1_val for RBF kernel: 0.8444444444444444 when C= 110\n"
     ]
    }
   ],
   "source": [
    "c=[]\n",
    "bestf1train=[]\n",
    "bestf1val=[]\n",
    "for i in  [100,101,102,103,104,105,106,107,108,109,110]:\n",
    "    model = SVM(max_iter=100, kernel_type='rbf', C= i , epsilon=0.00001)\n",
    "    f1_train_rbf, f1_val_rbf, support_vector_rbf=model.fit(X_train, Y_train,X_val,Y_val)\n",
    "    print('best f1_val for RBF kernel:',max(f1_val_rbf),\n",
    "         'when C=', i)\n",
    "    c.append(i)\n",
    "    bestf1train.append(max(f1_train_rbf))\n",
    "    bestf1val.append(max(f1_val_rbf))"
   ]
  },
  {
   "cell_type": "code",
   "execution_count": 14,
   "id": "d259aa31-cab8-4ae7-abd2-44b7669afa2b",
   "metadata": {},
   "outputs": [
    {
     "data": {
      "image/png": "[encoded data removed]",
      "text/plain": [
       "<Figure size 432x288 with 1 Axes>"
      ]
     },
     "metadata": {
      "needs_background": "light"
     },
     "output_type": "display_data"
    }
   ],
   "source": [
    "plt.title(\"Training Curve\")\n",
    "plt.plot(c, bestf1val, label=\"Val\")\n",
    "plt.xlabel(\"C\")\n",
    "plt.ylabel(\"F1_score\")\n",
    "plt.legend()\n",
    "plt.show()"
   ]
  },
  {
   "cell_type": "code",
   "execution_count": 19,
   "id": "4a3a72b1-56d6-4005-9553-b222efc4a1e9",
   "metadata": {},
   "outputs": [
    {
     "data": {
      "text/plain": [
       "107"
      ]
     },
     "execution_count": 19,
     "metadata": {},
     "output_type": "execute_result"
    }
   ],
   "source": [
    "i=bestf1val.index(max(bestf1val))\n",
    "best_c= c[i]\n",
    "best_c"
   ]
  },
  {
   "cell_type": "markdown",
   "id": "9a56fe02",
   "metadata": {
    "tags": []
   },
   "source": [
    "### For Best C we will run our model and plot the F1 Score"
   ]
  },
  {
   "cell_type": "code",
   "execution_count": 57,
   "id": "4df48719",
   "metadata": {},
   "outputs": [],
   "source": [
    "model = SVM(max_iter=1000, kernel_type='rbf', C= best_c , epsilon=0.0001)\n",
    "f1_train_rbf, f1_val_rbf, support_vector_rbf=model.fit(X_train, Y_train,X_val,Y_val)"
   ]
  },
  {
   "cell_type": "code",
   "execution_count": 25,
   "id": "bce09fbd-c042-48c1-88f1-cf7931d7c0b4",
   "metadata": {},
   "outputs": [
    {
     "name": "stdout",
     "output_type": "stream",
     "text": [
      "107\n"
     ]
    }
   ],
   "source": [
    "print(best_c)"
   ]
  },
  {
   "cell_type": "code",
   "execution_count": 58,
   "id": "ca603cf8-00a5-49b1-bd6e-69ddbd3f1266",
   "metadata": {},
   "outputs": [
    {
     "data": {
      "image/png": "[encoded data removed]",
      "text/plain": [
       "<Figure size 432x288 with 1 Axes>"
      ]
     },
     "metadata": {
      "needs_background": "light"
     },
     "output_type": "display_data"
    }
   ],
   "source": [
    "plt.title(f\"Training Curve for C={best_c}\" )\n",
    "plt.plot(np.arange(len(f1_train_rbf)),f1_train_rbf , label=\"Train\")\n",
    "plt.plot(np.arange(len(f1_val_rbf)),f1_val_rbf , label=\"Validation\")\n",
    "\n",
    "plt.xlabel(\"Iterations\")\n",
    "plt.ylabel(\"F1_score\")\n",
    "plt.legend()\n",
    "plt.axvline(x=300, color='r', linestyle='--')\n",
    "plt.show()"
   ]
  },
  {
   "cell_type": "markdown",
   "id": "4f042f1d",
   "metadata": {},
   "source": [
    "### For Quadratic Kernel"
   ]
  },
  {
   "cell_type": "code",
   "execution_count": 59,
   "id": "64dbe6a4",
   "metadata": {},
   "outputs": [],
   "source": [
    "model = SVM(max_iter=1000, kernel_type='quadratic', C= best_c , epsilon=0.0001)\n",
    "f1_train_rbf, f1_val_rbf, support_vector_rbf=model.fit(X_train, Y_train,X_val,Y_val)"
   ]
  },
  {
   "cell_type": "code",
   "execution_count": 60,
   "id": "ce5c3dc6-2e7d-4aaf-ae49-d4e83bc64974",
   "metadata": {},
   "outputs": [
    {
     "data": {
      "image/png": "[encoded data removed]",
      "text/plain": [
       "<Figure size 432x288 with 1 Axes>"
      ]
     },
     "metadata": {
      "needs_background": "light"
     },
     "output_type": "display_data"
    }
   ],
   "source": [
    "\n",
    "plt.title(f\"Training Curve for C={best_c}\")\n",
    "plt.bar(np.arange(len(f1_train_rbf)),f1_train_rbf , label=\"Train\")\n",
    "plt.bar(np.arange(len(f1_val_rbf)),f1_val_rbf , label=\"Validation\")\n",
    "plt.xlabel(\"Iterations\")\n",
    "plt.ylabel(\"F1_score\")\n",
    "plt.legend()\n",
    "plt.xlim(0,5)\n",
    "plt.show()"
   ]
  },
  {
   "cell_type": "code",
   "execution_count": null,
   "id": "03d78a0e-cba3-4783-89dd-261bd24c2515",
   "metadata": {},
   "outputs": [],
   "source": []
  }
 ],
 "metadata": {
  "kernelspec": {
   "display_name": "Python 3",
   "language": "python",
   "name": "python3"
  },
  "language_info": {
   "codemirror_mode": {
    "name": "ipython",
    "version": 3
   },
   "file_extension": ".py",
   "mimetype": "text/x-python",
   "name": "python",
   "nbconvert_exporter": "python",
   "pygments_lexer": "ipython3",
   "version": "3.8.8"
  }
 },
 "nbformat": 4,
 "nbformat_minor": 5
}
